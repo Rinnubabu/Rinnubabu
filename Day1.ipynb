{
  "nbformat": 4,
  "nbformat_minor": 0,
  "metadata": {
    "colab": {
      "name": "Day1.ipynb",
      "provenance": [],
      "authorship_tag": "ABX9TyP0FzLNyL5W2oWHYIIA1Rti",
      "include_colab_link": true
    },
    "kernelspec": {
      "name": "python3",
      "display_name": "Python 3"
    },
    "language_info": {
      "name": "python"
    }
  },
  "cells": [
    {
      "cell_type": "markdown",
      "metadata": {
        "id": "view-in-github",
        "colab_type": "text"
      },
      "source": [
        "<a href=\"https://colab.research.google.com/github/Rinnubabu/Rinnubabu/blob/main/Day1.ipynb\" target=\"_parent\"><img src=\"https://colab.research.google.com/assets/colab-badge.svg\" alt=\"Open In Colab\"/></a>"
      ]
    },
    {
      "cell_type": "code",
      "metadata": {
        "colab": {
          "base_uri": "https://localhost:8080/"
        },
        "id": "OOMl26EXa6oy",
        "outputId": "1457e780-7fe3-463d-9d48-4d79d3320817"
      },
      "source": [
        "print(\"I Love Rinnu\")\n",
        "print('Hello' , end = ' ')\n",
        "print('coder')\n",
        "print('hello' , 'coders')\n",
        "print(\"Rinnu\" , end = \"Chiku\")\n"
      ],
      "execution_count": 8,
      "outputs": [
        {
          "output_type": "stream",
          "text": [
            "I Love Rinnu\n",
            "Hello coder\n",
            "hello coders\n",
            "RinnuChiku<class 'int'>\n"
          ],
          "name": "stdout"
        }
      ]
    },
    {
      "cell_type": "code",
      "metadata": {
        "colab": {
          "base_uri": "https://localhost:8080/"
        },
        "id": "WwY53tJSgTEQ",
        "outputId": "0516f1a1-9fe4-4718-9769-3779ccf9c1e1"
      },
      "source": [
        "a=10 \n",
        "b='Hello'\n",
        "print(type(a))\n",
        "print(type(b))"
      ],
      "execution_count": 12,
      "outputs": [
        {
          "output_type": "stream",
          "text": [
            "<class 'int'>\n",
            "<class 'str'>\n"
          ],
          "name": "stdout"
        }
      ]
    },
    {
      "cell_type": "code",
      "metadata": {
        "colab": {
          "base_uri": "https://localhost:8080/"
        },
        "id": "l81tIHWHg_nL",
        "outputId": "adf3dbb6-b5fc-454e-fee3-c6dd449f4b4a"
      },
      "source": [
        "x , y , z = 10 , 20 , 30\n",
        "print(y)"
      ],
      "execution_count": 16,
      "outputs": [
        {
          "output_type": "stream",
          "text": [
            "20\n"
          ],
          "name": "stdout"
        }
      ]
    },
    {
      "cell_type": "code",
      "metadata": {
        "colab": {
          "base_uri": "https://localhost:8080/"
        },
        "id": "oQUdt7XnhbWm",
        "outputId": "6337de7d-2e38-4308-8340-7f413f0aec8a"
      },
      "source": [
        "a = b = c = 30\n",
        "print(a , b , c)\n",
        "print(id(a)) #id means Address or index\n",
        "''' python with same values we have got the same address coz' it's totally saves the storage'''\n",
        "print(id(b))\n",
        "print(id(c)) \n",
        "#all will stores at the same place.\n",
        "\n",
        "b=70\n",
        "print(a , b , c)"
      ],
      "execution_count": 19,
      "outputs": [
        {
          "output_type": "stream",
          "text": [
            "30 30 30\n",
            "94739081694624\n",
            "94739081694624\n",
            "94739081694624\n",
            "30 70 30\n"
          ],
          "name": "stdout"
        }
      ]
    },
    {
      "cell_type": "code",
      "metadata": {
        "colab": {
          "base_uri": "https://localhost:8080/"
        },
        "id": "pxi2YQZ1jUIS",
        "outputId": "fb05d455-4aaa-46b8-ab9b-52f8266e8876"
      },
      "source": [
        "print('I love python and happy to learn new things about this')\n",
        "\n",
        "a = input(\"Enter a value: \")\n",
        "b = input(\"Enter a value: \")\n",
        "c = a+b\n",
        "print(a + b)\n",
        "print(c)\n",
        "print(type(a))\n",
        "print(type(b))\n",
        "\n"
      ],
      "execution_count": 26,
      "outputs": [
        {
          "output_type": "stream",
          "text": [
            "I love python and happy to learn new things about this\n",
            "Enter a value: 10\n",
            "Enter a value: 20\n",
            "1020\n",
            "1020\n",
            "<class 'str'>\n",
            "<class 'int'>\n"
          ],
          "name": "stdout"
        }
      ]
    },
    {
      "cell_type": "code",
      "metadata": {
        "colab": {
          "base_uri": "https://localhost:8080/"
        },
        "id": "BRNGGzk4lFjA",
        "outputId": "0d9321ed-9718-4d7a-d0c0-0d1724227948"
      },
      "source": [
        "a = int(input(\"Enter a value: \"))\n",
        "b = int(input(\"Enter a value: \"))\n",
        "c = a+b\n",
        "print(c)"
      ],
      "execution_count": 27,
      "outputs": [
        {
          "output_type": "stream",
          "text": [
            "Enter a value: 10\n",
            "Enter a value: 20\n",
            "30\n"
          ],
          "name": "stdout"
        }
      ]
    },
    {
      "cell_type": "code",
      "metadata": {
        "colab": {
          "base_uri": "https://localhost:8080/"
        },
        "id": "deODCupZlgx1",
        "outputId": "9c62ae2c-745e-4f21-cb19-9d4a96a452ca"
      },
      "source": [
        "a = input(\"enter the values: \")\n",
        "print(a)\n",
        "print(type(a)) # it cannot be converted through int keyword"
      ],
      "execution_count": 29,
      "outputs": [
        {
          "output_type": "stream",
          "text": [
            "enter the values: 10 20 30\n",
            "10 20 30\n",
            "<class 'str'>\n"
          ],
          "name": "stdout"
        }
      ]
    },
    {
      "cell_type": "code",
      "metadata": {
        "colab": {
          "base_uri": "https://localhost:8080/"
        },
        "id": "dpaw-lj2lu_8",
        "outputId": "f79faf0c-8598-4e2b-99af-c77fb5d72485"
      },
      "source": [
        "a = input(\"enter the value: \")\n",
        "print(type(a))\n",
        "\n",
        "val = a.split()\n",
        "print(val)"
      ],
      "execution_count": 30,
      "outputs": [
        {
          "output_type": "stream",
          "text": [
            "enter the value: 10 20 30\n",
            "<class 'str'>\n",
            "['10', '20', '30']\n"
          ],
          "name": "stdout"
        }
      ]
    },
    {
      "cell_type": "code",
      "metadata": {
        "colab": {
          "base_uri": "https://localhost:8080/"
        },
        "id": "pyVYxjaYmrvn",
        "outputId": "86a2984d-c491-4d86-c34b-48101e4a1827"
      },
      "source": [
        "val = [int(i) for i in a.split()]\n",
        "print(val)\n",
        "\n",
        "li = ['hello', 10, 12.2]\n",
        "print(li)\n",
        "print(type(li))"
      ],
      "execution_count": 34,
      "outputs": [
        {
          "output_type": "stream",
          "text": [
            "[10, 20, 30]\n",
            "['hello', 10, 12.2]\n",
            "<class 'list'>\n"
          ],
          "name": "stdout"
        }
      ]
    },
    {
      "cell_type": "code",
      "metadata": {
        "colab": {
          "base_uri": "https://localhost:8080/"
        },
        "id": "XdC5WxEAnXw1",
        "outputId": "82971d6c-e55f-4067-d431-2af11be34734"
      },
      "source": [
        "a = [10, 2, 3 , 11, 23]\n",
        "a.sort()\n",
        "print(a)\n",
        "li.reverse()\n",
        "print(li)"
      ],
      "execution_count": 37,
      "outputs": [
        {
          "output_type": "stream",
          "text": [
            "[2, 3, 10, 11, 23]\n",
            "[12.2, 10, 'hello']\n"
          ],
          "name": "stdout"
        }
      ]
    },
    {
      "cell_type": "code",
      "metadata": {
        "colab": {
          "base_uri": "https://localhost:8080/"
        },
        "id": "s7R8m6hpnrM7",
        "outputId": "db79ba5f-fb76-413d-c985-b755961e0747"
      },
      "source": [
        "#slicing\n",
        "a = 10, 20, 30, 40\n",
        "print(a[0:3]) #[start: end]"
      ],
      "execution_count": 38,
      "outputs": [
        {
          "output_type": "stream",
          "text": [
            "(10, 20, 30)\n"
          ],
          "name": "stdout"
        }
      ]
    },
    {
      "cell_type": "code",
      "metadata": {
        "colab": {
          "base_uri": "https://localhost:8080/"
        },
        "id": "GrLGQUbcojtD",
        "outputId": "8bdedbc4-bdda-4bbd-e0b9-012c198e815f"
      },
      "source": [
        "z = [int(i) for i in input(\"Enter the value of list: \").split()]\n",
        "z.sort()\n",
        "z.reverse()\n",
        "print(z)"
      ],
      "execution_count": 39,
      "outputs": [
        {
          "output_type": "stream",
          "text": [
            "Enter the value of list: 10 20 30 40\n",
            "[40, 30, 20, 10]\n"
          ],
          "name": "stdout"
        }
      ]
    }
  ]
}