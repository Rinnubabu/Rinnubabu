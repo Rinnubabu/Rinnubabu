{
  "nbformat": 4,
  "nbformat_minor": 0,
  "metadata": {
    "colab": {
      "name": "Untitled0.ipynb",
      "provenance": [],
      "authorship_tag": "ABX9TyM3j8DUM8DBev7JMafv/C/G",
      "include_colab_link": true
    },
    "kernelspec": {
      "name": "python3",
      "display_name": "Python 3"
    },
    "language_info": {
      "name": "python"
    }
  },
  "cells": [
    {
      "cell_type": "markdown",
      "metadata": {
        "id": "view-in-github",
        "colab_type": "text"
      },
      "source": [
        "<a href=\"https://colab.research.google.com/github/Rinnubabu/Rinnubabu/blob/main/Untitled0.ipynb\" target=\"_parent\"><img src=\"https://colab.research.google.com/assets/colab-badge.svg\" alt=\"Open In Colab\"/></a>"
      ]
    },
    {
      "cell_type": "code",
      "metadata": {
        "colab": {
          "base_uri": "https://localhost:8080/"
        },
        "id": "jC5NfRM2kZDg",
        "outputId": "92b98c14-fce9-49d3-822f-a3c917a642b6"
      },
      "source": [
        "li = [1,2,3,4,5,6]\n",
        "print(li[0:4:2]) #start, End, Step\n",
        "print(li[::-1])\n",
        "print(li * 3)\n",
        "B = [10,20,30,40]\n",
        "print(li + B)"
      ],
      "execution_count": 6,
      "outputs": [
        {
          "output_type": "stream",
          "text": [
            "[1, 3]\n",
            "[6, 5, 4, 3, 2, 1]\n",
            "[1, 2, 3, 4, 5, 6, 1, 2, 3, 4, 5, 6, 1, 2, 3, 4, 5, 6]\n",
            "[1, 2, 3, 4, 5, 6, 10, 20, 30, 40]\n"
          ],
          "name": "stdout"
        }
      ]
    },
    {
      "cell_type": "code",
      "metadata": {
        "colab": {
          "base_uri": "https://localhost:8080/",
          "height": 262
        },
        "id": "TFPiIiCRmXac",
        "outputId": "4404c8ed-ea95-45cc-aec6-a9f8feb1b387"
      },
      "source": [
        "#membership\n",
        "\n",
        "a = [1,2,3,4,5]\n",
        "print(3 in a)\n",
        "a.append(9)\n",
        "print(a)\n",
        "a.pop(2) #removes the index value \n",
        "print(a)\n",
        "a.remove(3) #removes remove element\n",
        "print(a) \n",
        "a.insert(2,10)\n",
        "print(a)"
      ],
      "execution_count": 18,
      "outputs": [
        {
          "output_type": "stream",
          "text": [
            "True\n",
            "[1, 2, 3, 4, 5, 9]\n",
            "[1, 2, 4, 5, 9]\n"
          ],
          "name": "stdout"
        },
        {
          "output_type": "error",
          "ename": "ValueError",
          "evalue": "ignored",
          "traceback": [
            "\u001b[0;31m---------------------------------------------------------------------------\u001b[0m",
            "\u001b[0;31mValueError\u001b[0m                                Traceback (most recent call last)",
            "\u001b[0;32m<ipython-input-18-a6b3651e6b7a>\u001b[0m in \u001b[0;36m<module>\u001b[0;34m()\u001b[0m\n\u001b[1;32m      7\u001b[0m \u001b[0ma\u001b[0m\u001b[0;34m.\u001b[0m\u001b[0mpop\u001b[0m\u001b[0;34m(\u001b[0m\u001b[0;36m2\u001b[0m\u001b[0;34m)\u001b[0m \u001b[0;31m#removes the index value\u001b[0m\u001b[0;34m\u001b[0m\u001b[0;34m\u001b[0m\u001b[0m\n\u001b[1;32m      8\u001b[0m \u001b[0mprint\u001b[0m\u001b[0;34m(\u001b[0m\u001b[0ma\u001b[0m\u001b[0;34m)\u001b[0m\u001b[0;34m\u001b[0m\u001b[0;34m\u001b[0m\u001b[0m\n\u001b[0;32m----> 9\u001b[0;31m \u001b[0ma\u001b[0m\u001b[0;34m.\u001b[0m\u001b[0mremove\u001b[0m\u001b[0;34m(\u001b[0m\u001b[0;36m3\u001b[0m\u001b[0;34m)\u001b[0m \u001b[0;31m#removes remove element\u001b[0m\u001b[0;34m\u001b[0m\u001b[0;34m\u001b[0m\u001b[0m\n\u001b[0m\u001b[1;32m     10\u001b[0m \u001b[0mprint\u001b[0m\u001b[0;34m(\u001b[0m\u001b[0ma\u001b[0m\u001b[0;34m)\u001b[0m\u001b[0;34m\u001b[0m\u001b[0;34m\u001b[0m\u001b[0m\n",
            "\u001b[0;31mValueError\u001b[0m: list.remove(x): x not in list"
          ]
        }
      ]
    },
    {
      "cell_type": "code",
      "metadata": {
        "colab": {
          "base_uri": "https://localhost:8080/"
        },
        "id": "kwE5z3omo38D",
        "outputId": "b55d3000-0019-41bb-c31d-237248408be6"
      },
      "source": [
        "z = [1,1,1,1,34,3,3]\n",
        "print(z.count(1))\n"
      ],
      "execution_count": 21,
      "outputs": [
        {
          "output_type": "stream",
          "text": [
            "4\n"
          ],
          "name": "stdout"
        }
      ]
    },
    {
      "cell_type": "code",
      "metadata": {
        "colab": {
          "base_uri": "https://localhost:8080/"
        },
        "id": "ozNjrPz3phcB",
        "outputId": "8cda1ade-82e1-4627-eba7-f2a23e6224cd"
      },
      "source": [
        "# tuple is mutable\n",
        "t = (1,2,3,\"Hello\")\n",
        "print(t)"
      ],
      "execution_count": 22,
      "outputs": [
        {
          "output_type": "stream",
          "text": [
            "(1, 2, 3, 'Hello')\n"
          ],
          "name": "stdout"
        }
      ]
    },
    {
      "cell_type": "code",
      "metadata": {
        "colab": {
          "base_uri": "https://localhost:8080/"
        },
        "id": "HOqL9uDWmeXX",
        "outputId": "47a2014c-ee93-4d04-e182-7728d5ce0f24"
      },
      "source": [
        "#iteration\n",
        "for i in B:\n",
        "  print(i,end=\" \")\n"
      ],
      "execution_count": 13,
      "outputs": [
        {
          "output_type": "stream",
          "text": [
            "10 20 30 40 "
          ],
          "name": "stdout"
        }
      ]
    },
    {
      "cell_type": "code",
      "metadata": {
        "colab": {
          "base_uri": "https://localhost:8080/"
        },
        "id": "YeF4Zh_Opn4Y",
        "outputId": "7310c60b-4068-4bfb-d2aa-36ce71c428b9"
      },
      "source": [
        "#remove all the occurence of an element from a list\n",
        "#list is mutable \n",
        "z[0]=3\n",
        "print(z)\n",
        "#tuple is not mutable"
      ],
      "execution_count": 23,
      "outputs": [
        {
          "output_type": "stream",
          "text": [
            "[3, 1, 1, 1, 34, 3, 3]\n"
          ],
          "name": "stdout"
        }
      ]
    },
    {
      "cell_type": "code",
      "metadata": {
        "colab": {
          "base_uri": "https://localhost:8080/"
        },
        "id": "kehx0A1lqCVp",
        "outputId": "0ff60be5-b295-4858-a464-9601ab5f2aa7"
      },
      "source": [
        "#methods\n",
        "#count and Index (only methods we have in tuple)\n",
        "#tuple can also contain list\n",
        "s = (1,2,3,[1,2,3])\n",
        "s[3][2] = 10\n",
        "print(s)"
      ],
      "execution_count": 25,
      "outputs": [
        {
          "output_type": "stream",
          "text": [
            "(1, 2, 3, [1, 2, 10])\n"
          ],
          "name": "stdout"
        }
      ]
    },
    {
      "cell_type": "code",
      "metadata": {
        "colab": {
          "base_uri": "https://localhost:8080/"
        },
        "id": "pGakVUmGrMEA",
        "outputId": "0de2c851-b5f4-4abb-8e3e-e3d4a46cb753"
      },
      "source": [
        "#set\n",
        "num = {1,2,3,4,5,6}\n",
        "print(type(num))"
      ],
      "execution_count": 26,
      "outputs": [
        {
          "output_type": "stream",
          "text": [
            "<class 'set'>\n"
          ],
          "name": "stdout"
        }
      ]
    },
    {
      "cell_type": "code",
      "metadata": {
        "colab": {
          "base_uri": "https://localhost:8080/"
        },
        "id": "FV8EzTkRsV-N",
        "outputId": "89ed9352-b6a5-434f-888a-b95ababb423a"
      },
      "source": [
        "f = {1,2,3,4,4,5}\n",
        "H = {1,2,3,4}\n",
        "print(f-H)\n",
        "print(f&H) #for intersection\n",
        "print(f.union(H))\n",
        "print(f | H) # this is also for union"
      ],
      "execution_count": 30,
      "outputs": [
        {
          "output_type": "stream",
          "text": [
            "{5}\n",
            "{1, 2, 3, 4}\n",
            "{1, 2, 3, 4, 5}\n"
          ],
          "name": "stdout"
        }
      ]
    },
    {
      "cell_type": "code",
      "metadata": {
        "colab": {
          "base_uri": "https://localhost:8080/"
        },
        "id": "DSDaiTtSs8H8",
        "outputId": "a31e9540-604d-4b3f-ac0a-cad1f80fe1eb"
      },
      "source": [
        "#dictionary\n",
        "# here we store the key value pairs of person or something that has key and value\n",
        "details = {\"Name\" : \"Rinnu\" , \"Age\" : 10, \"Powe\" : \"Magic\"}\n",
        "print(type(details))\n",
        "print(details[\"Age\"])\n",
        "print(details.get(\"Age\"))\n",
        "print(details)\n",
        "print(details.get(\"Pet\"))\n",
        "print(details.get(\"Pet\",\"NA\"))\n",
        "print(details.keys())\n",
        "print(details.values())\n",
        "print(details.items())"
      ],
      "execution_count": 37,
      "outputs": [
        {
          "output_type": "stream",
          "text": [
            "<class 'dict'>\n",
            "10\n",
            "10\n",
            "{'Name': 'Rinnu', 'Age': 10, 'Powe': 'Magic'}\n",
            "None\n",
            "NA\n",
            "dict_keys(['Name', 'Age', 'Powe'])\n",
            "dict_values(['Rinnu', 10, 'Magic'])\n",
            "dict_items([('Name', 'Rinnu'), ('Age', 10), ('Powe', 'Magic')])\n"
          ],
          "name": "stdout"
        }
      ]
    },
    {
      "cell_type": "code",
      "metadata": {
        "colab": {
          "base_uri": "https://localhost:8080/"
        },
        "id": "sMQ_OtbMvDGB",
        "outputId": "f73706d1-40c0-4d0c-eee8-b4ff8e41cb44"
      },
      "source": [
        "# project generating otp\n",
        "#modules\n",
        "import math as R\n",
        "num=64\n",
        "print(math.sqrt(num))\n",
        "print(math.pow(2,5))\n",
        "print(R.sqrt(49))\n",
        "print(R.ceil(2.5))\n",
        "print(R.floor(2.5))"
      ],
      "execution_count": 42,
      "outputs": [
        {
          "output_type": "stream",
          "text": [
            "8.0\n",
            "32.0\n",
            "7.0\n"
          ],
          "name": "stdout"
        }
      ]
    },
    {
      "cell_type": "code",
      "metadata": {
        "colab": {
          "base_uri": "https://localhost:8080/"
        },
        "id": "t-lk9t4Dw-mN",
        "outputId": "0202e2e4-180a-467a-96f4-5034b05a07f3"
      },
      "source": [
        "from math import sqrt\n",
        "print(sqrt(81))"
      ],
      "execution_count": 44,
      "outputs": [
        {
          "output_type": "stream",
          "text": [
            "9.0\n"
          ],
          "name": "stdout"
        }
      ]
    },
    {
      "cell_type": "code",
      "metadata": {
        "colab": {
          "base_uri": "https://localhost:8080/"
        },
        "id": "RF3mnqwvx_uO",
        "outputId": "5a605542-bca4-4a0b-99f3-1fc520d350e2"
      },
      "source": [
        "import random as ram\n",
        "import string\n",
        "\n",
        "length = 6\n",
        "otp = \"\"\n",
        "character = string.ascii_letters + string.digits\n",
        "for i in range(length):\n",
        "  otp = otp + ram.choice(character)\n",
        "\n",
        "\n",
        "print(\"OTP: \", otp)"
      ],
      "execution_count": 47,
      "outputs": [
        {
          "output_type": "stream",
          "text": [
            "OTP:  HNze6l\n"
          ],
          "name": "stdout"
        }
      ]
    },
    {
      "cell_type": "code",
      "metadata": {
        "colab": {
          "base_uri": "https://localhost:8080/"
        },
        "id": "I3TWIHgz0i1T",
        "outputId": "e4cfe07d-dc8e-464d-9c85-27221c9968d2"
      },
      "source": [
        "#Assignment 2 - Day 2\n",
        "my_list = [1,1,1,3,3,4,5,6]\n",
        "print(set(my_list))"
      ],
      "execution_count": 49,
      "outputs": [
        {
          "output_type": "stream",
          "text": [
            "{1, 3, 4, 5, 6}\n"
          ],
          "name": "stdout"
        }
      ]
    },
    {
      "cell_type": "code",
      "metadata": {
        "id": "AL-l9haO18fu"
      },
      "source": [
        "#Check whether the string is pangram \n",
        "My_sent = \"This is how we can check whether our string is pangram or not\""
      ],
      "execution_count": null,
      "outputs": []
    }
  ]
}